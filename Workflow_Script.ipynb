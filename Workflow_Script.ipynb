{
 "cells": [
  {
   "cell_type": "code",
   "execution_count": 1,
   "id": "07b7d939",
   "metadata": {},
   "outputs": [],
   "source": [
    "# Import regular expression package\n",
    "\n",
    "import re\n",
    "import pandas as pd"
   ]
  },
  {
   "cell_type": "code",
   "execution_count": 2,
   "id": "fe2f1bf7",
   "metadata": {},
   "outputs": [
    {
     "name": "stdout",
     "output_type": "stream",
     "text": [
      "﻿,Kingdom, Subkingdom, Phylum, Class, Order, Family, Genus, Species,,,,\n",
      "\n"
     ]
    }
   ],
   "source": [
    "# Import data\n",
    "\n",
    "infile = './Example_Data/Example_taxa.csv'\n",
    "\n",
    "with open(infile) as taxa:\n",
    "    lines = taxa.readlines()\n",
    "  \n",
    "\n",
    "print(lines[0])"
   ]
  },
  {
   "cell_type": "code",
   "execution_count": null,
   "id": "5c1d82dc",
   "metadata": {},
   "outputs": [],
   "source": [
    "# Create the outfiles\n",
    "\n"
   ]
  },
  {
   "cell_type": "code",
   "execution_count": 4,
   "id": "e80cd90e",
   "metadata": {},
   "outputs": [],
   "source": [
    "\n",
    "for line in lines:\n",
    "    line.split(\",\")\n",
    "\n",
    "    #Kingdom\n",
    "    searchking = '(\\w+ota,)'\n",
    "    kingdom = re.search(searchking,line)\n",
    "    if kingdom != None:   \n",
    "        #print(kingdom.group(0))\n",
    "        king = kingdom.group(0)  \n",
    "    else:\n",
    "        king = 'NA'\n",
    "        \n",
    "    #Clade\n",
    "    \n",
    "    # Haptista, Metazoa, ochrophyta\n",
    "    # Opisthokonta, SAR, Viridiplantae\n",
    " \n",
    "    \n",
    "   \n",
    "    "
   ]
  },
  {
   "cell_type": "code",
   "execution_count": null,
   "id": "c51c872a",
   "metadata": {},
   "outputs": [],
   "source": [
    "for line in lines:\n",
    "    line.split(\",\")\n",
    "    \n",
    "    #Phylum\n",
    "    search_phyta = ',(\\w+phyta,)'\n",
    "    search_arthro = ',(\\w+poda,)'\n",
    "    search_mollusk = ',(\\w+usca,)'\n",
    "    search_zoa = ',(\\w+zoa,)'\n",
    "    search_myxa = ',(\\w+myxa,)'\n",
    "    search_atea = ',(\\w+atea,)'\n",
    "    search_mycota = ',(\\w+mycota,)'\n",
    "    search_phora = ',(\\w+phora,)'"
   ]
  },
  {
   "cell_type": "code",
   "execution_count": 8,
   "id": "8d847834",
   "metadata": {},
   "outputs": [
    {
     "name": "stdout",
     "output_type": "stream",
     "text": [
      ",Coscinodiscophyceae,\n",
      ",Coscinodiscophyceae,\n",
      ",Dinophyceae,\n",
      ",Dinophyceae,\n",
      ",Mediophyceae,\n",
      ",Haptophyceae,\n",
      ",Prymnesiophyceae,\n",
      ",Dinophyceae,\n",
      ",Coscinodiscophyceae,\n",
      ",Coscinodiscophyceae,\n",
      ",Bacillariophyceae,\n",
      ",Dinophyceae,\n",
      ",Dinophyceae,\n",
      ",Dinophyceae,\n",
      ",Dinophyceae,\n",
      ",Bacillariophyceae,\n",
      ",Dinophyceae,\n",
      ",Dinophyceae,\n",
      ",Dinophyceae,\n",
      ",Coscinodiscophyceae,\n",
      ",Bacillariophyceae,\n",
      ",Dinophyceae,\n",
      ",Dinophyceae,\n",
      ",Dinophyceae,\n",
      ",Coscinodiscophyceae,\n",
      ",Bacillariophyceae,\n",
      ",Dinophyceae,\n",
      ",Coscinodiscophyceae,\n"
     ]
    }
   ],
   "source": [
    "#Class\n",
    "for line in lines:\n",
    "    line.split(\",\")\n",
    "\n",
    "    #Class\n",
    "    search_class = ',(\\w+phyceae),'\n",
    "    taxclass = re.search(search_class,line)\n",
    "    if taxclass != None:   \n",
    "        print(taxclass.group(0))\n",
    "        #king = kingdom.group(0)  \n",
    "    \n",
    "    \n",
    "    #else: \n",
    "        #write it into the unsorted file"
   ]
  },
  {
   "cell_type": "code",
   "execution_count": 9,
   "id": "66cd3ee2",
   "metadata": {},
   "outputs": [
    {
     "name": "stdout",
     "output_type": "stream",
     "text": [
      ",Chaetocerotophycidae\n",
      ",Chaetocerotophycidae\n",
      ",Biddulphiophycidae\n",
      ",Thalassiosirophycidae\n",
      ",Chaetocerotophycidae\n",
      ",Bacillariophycidae\n",
      ",Bacillariophycidae\n",
      ",Coscinodiscophycidae\n",
      ",Bacillariophycidae\n",
      ",Calanidae\n",
      ",Oithonidae\n",
      ",Coscinodiscophycidae\n",
      ",Bacillariophycidae\n",
      ",Chaetocerotophycidae\n"
     ]
    }
   ],
   "source": [
    "#Subclass\n",
    "\n",
    "for line in lines:\n",
    "    line.split(\",\")\n",
    "\n",
    "    #Subclass\n",
    "    search_subclass = ',(\\w+idae)'\n",
    "    subclass = re.search(search_subclass,line)\n",
    "    if subclass != None:   \n",
    "        print(subclass.group(0))\n",
    "        #subc = subclass.group(0)  \n",
    "    #else:\n",
    "        #subc = 'NA'"
   ]
  },
  {
   "cell_type": "code",
   "execution_count": 10,
   "id": "daa778a7",
   "metadata": {},
   "outputs": [
    {
     "name": "stdout",
     "output_type": "stream",
     "text": [
      ",Chaetocerotales,\n",
      ",Chaetocerotales,\n",
      ",Peridiniales,\n",
      ",Gymnodiniales,\n",
      ",Hemiaulales,\n",
      ",Phaeocystales,\n",
      ",Phaeocystales,\n",
      ",Gymnodiniales,\n",
      ",Thalassiosirales,\n",
      ",Chaetocerotales,\n",
      ",Bacillariales,\n",
      ",Peridiniales,\n",
      ",Gymnodiniales,\n",
      ",Gymnodiniales,\n",
      ",Gymnodiniales,\n",
      ",Bacillariales,\n",
      ",Peridiniales,\n",
      ",Peridiniales,\n",
      ",Peridiniales,\n",
      ",Asterolamprales,\n",
      ",Bacillariales,\n",
      ",Gymnodiniales,\n",
      ",Peridiniales,\n",
      ",Gymnodiniales,\n",
      ",Coscinodiscales,\n",
      ",Bacillariales,\n",
      ",Peridiniales,\n",
      ",Chaetocerotales,\n"
     ]
    }
   ],
   "source": [
    "# Order\n",
    "\n",
    "for line in lines:\n",
    "    line.split(\",\")\n",
    "\n",
    "    #Class\n",
    "    search_order = ',(\\w+ales),'\n",
    "    order = re.search(search_order,line)\n",
    "    if order != None:   \n",
    "        print(order.group(0))\n",
    "        #ord = order.group(0)  \n",
    "    \n",
    "    #else: \n",
    "        #write it into the unsorted file\n",
    "    \n",
    "    "
   ]
  },
  {
   "cell_type": "code",
   "execution_count": 11,
   "id": "a68e783c",
   "metadata": {},
   "outputs": [
    {
     "name": "stdout",
     "output_type": "stream",
     "text": [
      ",Chaetocerotaceae,\n",
      ",Chaetocerotaceae,\n",
      ",Heterocapsaceae,\n",
      ",Gymnodiniaceae,\n",
      ",Hemiaulaceae,\n",
      ",Phaeocystaceae,\n",
      ",Phaeocystaceae,\n",
      ",Ptychodiscaceae,\n",
      ",Thalassiosiraceae,\n",
      ",Chaetocerotaceae,\n",
      ",Bacillariaceae,\n",
      ",Heterocapsaceae,\n",
      ",Warnowiaceae,\n",
      ",Warnowiaceae,\n",
      ",Kareniaceae,\n",
      ",Bacillariaceae,\n",
      ",Heterocapsaceae,\n",
      ",Heterocapsaceae,\n",
      ",Heterocapsaceae,\n",
      ",Asterolampraceae,\n",
      ",Bacillariaceae,\n",
      ",Warnowiaceae,\n",
      ",Peridiniaceae,\n",
      ",Gymnodiniaceae,\n",
      ",Hemidiscaceae,\n",
      ",Bacillariaceae,\n",
      ",Heterocapsaceae,\n",
      ",Chaetocerotaceae,\n"
     ]
    }
   ],
   "source": [
    "# Family\n",
    "\n",
    "for line in lines:\n",
    "    line.split(\",\")\n",
    "\n",
    "    #Class\n",
    "    search_family = ',(\\w+aceae),'\n",
    "    family = re.search(search_family,line)\n",
    "    if family != None:   \n",
    "        print(family.group(0))\n",
    "        #fam = family.group(0)  \n",
    "    \n",
    "    #else: \n",
    "        #write it into the unsorted file\n",
    "    "
   ]
  },
  {
   "cell_type": "code",
   "execution_count": null,
   "id": "e4f5104a",
   "metadata": {},
   "outputs": [],
   "source": [
    "# Genus and species\n",
    "    \n",
    "    search_species = "
   ]
  }
 ],
 "metadata": {
  "kernelspec": {
   "display_name": "Python 3 (ipykernel)",
   "language": "python",
   "name": "python3"
  },
  "language_info": {
   "codemirror_mode": {
    "name": "ipython",
    "version": 3
   },
   "file_extension": ".py",
   "mimetype": "text/x-python",
   "name": "python",
   "nbconvert_exporter": "python",
   "pygments_lexer": "ipython3",
   "version": "3.11.2"
  }
 },
 "nbformat": 4,
 "nbformat_minor": 5
}
